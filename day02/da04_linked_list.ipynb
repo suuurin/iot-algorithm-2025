{
 "cells": [
  {
   "cell_type": "markdown",
   "metadata": {},
   "source": [
    "### 연결 리스트(Linked List)\n",
    "- 노드(데이터, 링크 쌍)로 다음 데이터를 연결하는 동적 연결방식\n",
    "- 오버헤드가 없어서 매우 빨리 처리"
   ]
  },
  {
   "cell_type": "code",
   "execution_count": 3,
   "metadata": {},
   "outputs": [],
   "source": [
    "# 노드 클래스\n",
    "class Node:\n",
    "    def __init__(self):\n",
    "        self.data = None\n",
    "        self.link = None\n",
    "\n",
    "    def __str__(self):\n",
    "        return (f'{self.data} / {self.link}')"
   ]
  },
  {
   "cell_type": "code",
   "execution_count": 5,
   "metadata": {},
   "outputs": [
    {
     "data": {
      "text/plain": [
       "<__main__.Node at 0x1c3d1de38d0>"
      ]
     },
     "execution_count": 5,
     "metadata": {},
     "output_type": "execute_result"
    }
   ],
   "source": [
    "# 노드 생성\n",
    "node1 = Node()\n",
    "node1.data = '다현'\n",
    "\n",
    "node1"
   ]
  },
  {
   "cell_type": "code",
   "execution_count": 6,
   "metadata": {},
   "outputs": [],
   "source": [
    "# 노드 2\n",
    "node2 = Node()\n",
    "node2.data = '정연'\n",
    "node1.link = node2 # 첫번째 노드 링크에 두번째 노드를 넣어서 연결"
   ]
  },
  {
   "cell_type": "code",
   "execution_count": 7,
   "metadata": {},
   "outputs": [],
   "source": [
    "node3 = Node()\n",
    "node3.data = '쯔위'\n",
    "node2.link = node3\n",
    "\n",
    "node4 = Node()\n",
    "node4.data = '사나'\n",
    "node3.link = node4\n",
    "\n",
    "node5 = Node()\n",
    "node5.data = '지효'\n",
    "node4.link = node5\n",
    "# node5.link == None"
   ]
  },
  {
   "cell_type": "code",
   "execution_count": 8,
   "metadata": {},
   "outputs": [
    {
     "name": "stdout",
     "output_type": "stream",
     "text": [
      "다현 => 정연 => 쯔위 => 사나 => 지효\n"
     ]
    }
   ],
   "source": [
    "print(node1.data, end=' => ') # node 1 데이터\n",
    "print(node1.link.data, end=' => ') # node 2 데이터\n",
    "print(node1.link.link.data, end=' => ') # node 3 데이터\n",
    "print(node1.link.link.link.data, end=' => ') # node 4 데이터\n",
    "print(node1.link.link.link.link.data, end='\\n') # node 5 데이터"
   ]
  },
  {
   "cell_type": "code",
   "execution_count": 9,
   "metadata": {},
   "outputs": [
    {
     "name": "stdout",
     "output_type": "stream",
     "text": [
      "1940551252176\n",
      "1940551240336\n",
      "1940551353040\n",
      "1940550844816\n",
      "1940551364368\n"
     ]
    }
   ],
   "source": [
    "# 순차리스트처럼 연결되어 있지 않음\n",
    "print(id(node1))\n",
    "print(id(node2))\n",
    "print(id(node3))\n",
    "print(id(node4))\n",
    "print(id(node5))"
   ]
  },
  {
   "cell_type": "code",
   "execution_count": null,
   "metadata": {},
   "outputs": [],
   "source": [
    "current = node1   # node1를 current에 할당\n",
    "print(current.data, end='->')\n",
    "while current.link != None:   # 현재 노드의 링크가 None(더이상 다음 링크가 없다)\n",
    "    current = current.link  # node1.link 에는 node2가 존재. node2를 current에 할당\n",
    "    if current.link is None:\n",
    "        print(current.data, end='\\n')\n",
    "    else:\n",
    "        print(current.data, end='->')"
   ]
  },
  {
   "cell_type": "markdown",
   "metadata": {},
   "source": [
    "### 연결 리스트 중간 데이터 삽입\n",
    "- 노드 생성\n",
    "- 연결할 위치 앞 노드 링크가 가르키는 노드를 생성한 노드도 가리키게 함\n",
    "- 앞 노드의 링크가 생성한 노드를 가리키게 함"
   ]
  },
  {
   "cell_type": "code",
   "execution_count": 11,
   "metadata": {},
   "outputs": [],
   "source": [
    "newNode = Node()\n",
    "newNode.data = '재남'\n",
    "newNode.link = node2.link   # node3이 newNode.link로 할당\n",
    "node2.link = newNode"
   ]
  },
  {
   "cell_type": "code",
   "execution_count": 12,
   "metadata": {},
   "outputs": [
    {
     "name": "stdout",
     "output_type": "stream",
     "text": [
      "다현->정연->재남->쯔위->사나->지효\n"
     ]
    }
   ],
   "source": [
    "current = node1\n",
    "print(current.data, end='->')\n",
    "while current.link != None:\n",
    "    current = current.link\n",
    "    if current.link is None:\n",
    "        print(current.data, end='\\n')\n",
    "    else:\n",
    "        print(current.data, end='->')"
   ]
  },
  {
   "cell_type": "markdown",
   "metadata": {},
   "source": [
    "### 노드 삭제\n",
    "- 지우려는 노드의 link를 왼쪽 노드의 link로 할당\n",
    "- 지우려는 노드를 삭제!"
   ]
  },
  {
   "cell_type": "code",
   "execution_count": 13,
   "metadata": {},
   "outputs": [],
   "source": [
    "# node4 지우려면\n",
    "node3.link = node4.link # node5\n",
    "del(node4)"
   ]
  },
  {
   "cell_type": "code",
   "execution_count": 14,
   "metadata": {},
   "outputs": [
    {
     "name": "stdout",
     "output_type": "stream",
     "text": [
      "다현->정연->재남->쯔위->지효\n"
     ]
    }
   ],
   "source": [
    "current = node1\n",
    "print(current.data, end='->')\n",
    "while current.link != None:\n",
    "    current = current.link\n",
    "    if current.link is None:\n",
    "        print(current.data, end='\\n')\n",
    "    else:\n",
    "        print(current.data, end='->')"
   ]
  }
 ],
 "metadata": {
  "kernelspec": {
   "display_name": "Python 3",
   "language": "python",
   "name": "python3"
  },
  "language_info": {
   "codemirror_mode": {
    "name": "ipython",
    "version": 3
   },
   "file_extension": ".py",
   "mimetype": "text/x-python",
   "name": "python",
   "nbconvert_exporter": "python",
   "pygments_lexer": "ipython3",
   "version": "3.11.9"
  }
 },
 "nbformat": 4,
 "nbformat_minor": 2
}
