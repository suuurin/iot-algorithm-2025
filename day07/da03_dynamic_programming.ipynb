{
 "cells": [
  {
   "cell_type": "markdown",
   "metadata": {},
   "source": [
    "### DP(Dynamic Programming) : 동적 계획법\n",
    "- 연산의 수는 줄이고 최적의 결과를 도출할 수 있는 문제 해결방법\n"
   ]
  },
  {
   "cell_type": "markdown",
   "metadata": {},
   "source": [
    "#### Memoization\n",
    "\n",
    "|보석 종류|무게(Kg)|가격(억)|\n",
    "|:--:|--:|--:|\n",
    "|금괴|6|13|\n",
    "|수정|4|8|\n",
    "|루비|3|6|\n",
    "|진주|5|12|"
   ]
  },
  {
   "cell_type": "code",
   "execution_count": 2,
   "metadata": {},
   "outputs": [
    {
     "data": {
      "text/plain": [
       "[[0, 0, 0, 0, 0, 0, 0, 0],\n",
       " [0, 0, 0, 0, 0, 0, 0, 0],\n",
       " [0, 0, 0, 0, 0, 0, 0, 0],\n",
       " [0, 0, 0, 0, 0, 0, 0, 0],\n",
       " [0, 0, 0, 0, 0, 0, 0, 0]]"
      ]
     },
     "execution_count": 2,
     "metadata": {},
     "output_type": "execute_result"
    }
   ],
   "source": [
    "# 배열 초기화 (행은 보석갯수, 열은 0Kg~7Kg)\n",
    "배열 = [[0 for _ in range(8)] for _ in range(5)]\n",
    "\n",
    "배열\n",
    " "
   ]
  },
  {
   "cell_type": "markdown",
   "metadata": {},
   "source": [
    "- 동적계획법 구현"
   ]
  },
  {
   "cell_type": "code",
   "execution_count": 11,
   "metadata": {},
   "outputs": [
    {
     "name": "stdout",
     "output_type": "stream",
     "text": [
      "## 메모이제이션 배열 ##\n",
      "보석 1번 -> 0 0 6 6 6 6 6 \n",
      "보석 2번 -> 0 0 6 8 8 8 14 \n",
      "보석 3번 -> 0 0 6 8 12 12 14 \n",
      "보석 4번 -> 0 0 6 8 12 13 14 \n",
      "\n",
      "베낭에 담을 가장 최대보석 가격 --> 14억원\n"
     ]
    }
   ],
   "source": [
    "# 변수 선언\n",
    "maxWeight = 7\n",
    "rowCount = 4\n",
    "treasure = ['', '금괴', '수정', '루비', '진주']\n",
    "# weight = [0, 6, 4, 3, 5]  # 보석무게[0, 금괴, 수정, 루비, 진주]\n",
    "# money = [0, 13, 8, 6, 12] # 보석가격[0, 금괴, 수정, 루비, 진주]\n",
    "weight = [0, 3, 4, 5, 6]  # 보석무게[0, 금괴, 수정, 루비, 진주]\n",
    "money = [0, 6, 8, 12, 13] # 보석가격[0, 금괴, 수정, 루비, 진주]\n",
    "\n",
    "# 함수 선언\n",
    "def knapsack():\n",
    "    print('## 메모이제이션 배열 ##')\n",
    "    array = [[0 for _ in range(maxWeight+1)] for _ in range(rowCount+1)]  # 5x8열 행렬\n",
    "\n",
    "    for row in range(1, rowCount+1): # 1~4(보석개수)\n",
    "        print(f'보석 {row}번 ', end='-> ')\n",
    "        for col in range(1, maxWeight+1):  # 1~7(Kg)\n",
    "            if weight[row] > col: # 1. 보석의 무게가 무거워서 1Kg 가방에 못 들어가면\n",
    "                array[row][col] = array[row-1][col]\n",
    "            else: # 보석의 무게가 가방무게보다 작거나 같으면\n",
    "                # 현재보석 가치와 배낭무게에서 현재보석의 무게를 뺀 위치의 가치를 합산 결과\n",
    "                value1 = money[row] + array[row-1][col-weight[row]] \n",
    "                value2 = array[row-1][col]\n",
    "                array[row][col] = max(value1, value2)\n",
    "            print(f'{array[row][col]}', end=' ')\n",
    "        print()\n",
    "\n",
    "    return array[rowCount][maxWeight] # 최종결과값\n",
    "\n",
    "# 메인로직\n",
    "maxValue = knapsack()\n",
    "print()\n",
    "print(f'베낭에 담을 가장 최대보석 가격 --> {maxValue}억원')"
   ]
  },
  {
   "cell_type": "markdown",
   "metadata": {},
   "source": [
    "#### 피보나치 수열로 비교"
   ]
  },
  {
   "cell_type": "code",
   "execution_count": 39,
   "metadata": {},
   "outputs": [],
   "source": [
    "def rc_fibo(n):\n",
    "    global count_rc\n",
    "    count_rc += 1\n",
    "    if n == 0:\n",
    "        return 0\n",
    "    elif n == 1:\n",
    "        return 1  # 재귀 탈출조건\n",
    "    else:\n",
    "        return rc_fibo(n-1) + rc_fibo(n-2)   "
   ]
  },
  {
   "cell_type": "code",
   "execution_count": 51,
   "metadata": {},
   "outputs": [],
   "source": [
    "def dp_fibo(n):\n",
    "    global count_dp\n",
    "    memo = [0, 1] # fibo(0), fibo(1)\n",
    "    if n == 0:\n",
    "        return memo[n]\n",
    "    elif n == 1:\n",
    "        return memo[n]\n",
    "    else:\n",
    "        for i in range(2, n+1):\n",
    "            memo.append(memo[i-1] + memo[i-2]) # 메모이제이션\n",
    "            count_dp += 1\n",
    "        \n",
    "        return memo[n]"
   ]
  },
  {
   "cell_type": "code",
   "execution_count": 71,
   "metadata": {},
   "outputs": [
    {
     "name": "stdout",
     "output_type": "stream",
     "text": [
      "재귀 피보나치 40 = 102334155\n",
      "처리 횟수 : 331160281\n"
     ]
    }
   ],
   "source": [
    "count_rc = 0\n",
    "n = 40\n",
    "print(f'재귀 피보나치 {n} = {rc_fibo(n)}')\n",
    "print(f'처리 횟수 : {count_rc}')"
   ]
  },
  {
   "cell_type": "markdown",
   "metadata": {},
   "source": [
    "- 재귀호출 Fibo(40) -> 2분 24초 가량 소요"
   ]
  },
  {
   "cell_type": "code",
   "execution_count": 74,
   "metadata": {},
   "outputs": [
    {
     "name": "stdout",
     "output_type": "stream",
     "text": [
      "동적 피보나치 40 = 102334155\n",
      "처리 횟수 : 39\n"
     ]
    }
   ],
   "source": [
    "count_dp = 0\n",
    "n = 40\n",
    "print(f'동적 피보나치 {n} = {dp_fibo(n)}')\n",
    "print(f'처리 횟수 : {count_dp}')"
   ]
  },
  {
   "cell_type": "markdown",
   "metadata": {},
   "source": [
    "- 동적호출 Fibo(40) -> 대략 4ms 소요"
   ]
  }
 ],
 "metadata": {
  "kernelspec": {
   "display_name": "3.11.9",
   "language": "python",
   "name": "python3"
  },
  "language_info": {
   "codemirror_mode": {
    "name": "ipython",
    "version": 3
   },
   "file_extension": ".py",
   "mimetype": "text/x-python",
   "name": "python",
   "nbconvert_exporter": "python",
   "pygments_lexer": "ipython3",
   "version": "3.11.9"
  }
 },
 "nbformat": 4,
 "nbformat_minor": 2
}
