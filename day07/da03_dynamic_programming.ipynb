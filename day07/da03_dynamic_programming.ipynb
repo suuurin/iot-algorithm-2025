{
 "cells": [
  {
   "cell_type": "markdown",
   "metadata": {},
   "source": [
    "### DP(Dynamic Programming) : 동적 계획법\n",
    "- 연산의 수는 줄이고 최적의 결과를 도출할 수 있는 문제 해결방법"
   ]
  },
  {
   "cell_type": "markdown",
   "metadata": {},
   "source": [
    "#### Memorization\n",
    "\n",
    "|보석|"
   ]
  },
  {
   "cell_type": "code",
   "execution_count": 3,
   "metadata": {},
   "outputs": [
    {
     "data": {
      "text/plain": [
       "[[0, 0, 0, 0, 0, 0, 0, 0],\n",
       " [0, 0, 0, 0, 0, 0, 0, 0],\n",
       " [0, 0, 0, 0, 0, 0, 0, 0],\n",
       " [0, 0, 0, 0, 0, 0, 0, 0],\n",
       " [0, 0, 0, 0, 0, 0, 0, 0]]"
      ]
     },
     "execution_count": 3,
     "metadata": {},
     "output_type": "execute_result"
    }
   ],
   "source": [
    "# 배열 초기화 (행은 보석갯수, 열은 0kg~7kg)\n",
    "배열 = [[0 for _ in range(8)] for _ in range(5)]\n",
    "\n",
    "배열"
   ]
  },
  {
   "cell_type": "markdown",
   "metadata": {},
   "source": [
    "- 동적계획법"
   ]
  },
  {
   "cell_type": "code",
   "execution_count": 6,
   "metadata": {},
   "outputs": [
    {
     "name": "stdout",
     "output_type": "stream",
     "text": [
      "## 메모이제이션 배열 ##\n",
      "보석 1개 0 0 0 0 0 13 13 \n",
      "보석 2개 0 0 0 8 8 13 13 \n",
      "보석 3개 0 0 6 8 8 13 14 \n",
      "보석 4개 0 0 6 8 12 13 14 \n",
      "\n",
      "배낭에 담을 가장 최대보석 가격 --> 14억원\n"
     ]
    }
   ],
   "source": [
    "# 변수 선언\n",
    "maxWeight = 7\n",
    "rowCount = 4\n",
    "treasure = ['', '금괴', '수정', '루비', '진주']\n",
    "weight = [0,6,4,3,5] # 보석무게[0, 금괴, 수정, 루비, 진주]\n",
    "money = [0,13,8,6,12] # 보석가격[0, 금괴, 수정, 루비, 진주]\n",
    "\n",
    "# 함수 선언\n",
    "def knapsack():\n",
    "    print('## 메모이제이션 배열 ##')\n",
    "    array = [[0 for _ in range(maxWeight+1)] for _ in range(rowCount+1)] # 5x8열 행렬\n",
    "\n",
    "    for row in range(1, rowCount+1): # 1~4까지(보석갯수)\n",
    "        print(f'보석 {row}개', end=' ')\n",
    "        for col in range(1, maxWeight+1): # 1~7(Kg)\n",
    "            if weight[row] > col: # 1. 보석의 무게가 무거워서 1kg 가방에 못 들어가면\n",
    "                array[row][col] = array[row-1][col]\n",
    "            else: # 보석의 무게가 가방 무게보다 적거나 같으면\n",
    "                # 현재 보석 가치와 배낭 무게에서 보석 무게를 뺀 위치의 가치 합산 결과\n",
    "                value1 = money[row] + array[row-1][col-weight[row]]\n",
    "                value2 = array[row-1][col]\n",
    "                array[row][col] = max(value1, value2)\n",
    "            print(f'{array[row][col]}', end=' ')\n",
    "        print()\n",
    "    return array[rowCount][maxWeight] # 최종결과값 반환 (배낭에 담을 가장 최대보석 가격)\n",
    "\n",
    "# 메인 로직\n",
    "maxValue = knapsack()\n",
    "print()\n",
    "print(f'배낭에 담을 가장 최대보석 가격 --> {maxValue}억원')"
   ]
  },
  {
   "cell_type": "markdown",
   "metadata": {},
   "source": [
    "#### 피보나치 수열로 비교"
   ]
  },
  {
   "cell_type": "code",
   "execution_count": 26,
   "metadata": {},
   "outputs": [],
   "source": [
    "def rc_fibo(n):\n",
    "    global count_rc\n",
    "    count_rc += 1\n",
    "    if n == 0:\n",
    "        return 0\n",
    "    elif n == 1:\n",
    "        return 1 # 재귀 탈출조건\n",
    "    else:\n",
    "        return rc_fibo(n-1) + rc_fibo(n-2)"
   ]
  },
  {
   "cell_type": "code",
   "execution_count": 53,
   "metadata": {},
   "outputs": [],
   "source": [
    "def dp_fibo(n):\n",
    "    global count_dp\n",
    "    memo = [0, 1] # fibo(0), fibo(1)\n",
    "    if n == 0:\n",
    "        return memo[n]\n",
    "    if n == 1:\n",
    "        return memo[n]\n",
    "    else:\n",
    "        for i in range(2, n+1):\n",
    "            memo.append(memo[i-1] + memo[i-2])  # 메모제이션\n",
    "            count_dp += 1\n",
    "\n",
    "        return memo[n]"
   ]
  },
  {
   "cell_type": "code",
   "execution_count": 55,
   "metadata": {},
   "outputs": [
    {
     "name": "stdout",
     "output_type": "stream",
     "text": [
      "재귀 피보나치 35 = 9227465\n",
      "처리 횟수 : 29860703\n"
     ]
    }
   ],
   "source": [
    "count_rc = 0\n",
    "n = 35\n",
    "print(f'재귀 피보나치 {n} = {rc_fibo(n)}')\n",
    "print(f'처리 횟수 : {count_rc}')"
   ]
  },
  {
   "cell_type": "code",
   "execution_count": 54,
   "metadata": {},
   "outputs": [
    {
     "name": "stdout",
     "output_type": "stream",
     "text": [
      "동적 피보나치 35 = 9227465\n",
      "처리 횟수 : 34\n"
     ]
    }
   ],
   "source": [
    "count_dp = 0\n",
    "n = 35\n",
    "print(f'동적 피보나치 {n} = {dp_fibo(n)}')\n",
    "print(f'처리 횟수 : {count_dp}')"
   ]
  },
  {
   "cell_type": "code",
   "execution_count": null,
   "metadata": {},
   "outputs": [],
   "source": []
  }
 ],
 "metadata": {
  "kernelspec": {
   "display_name": "Python 3",
   "language": "python",
   "name": "python3"
  },
  "language_info": {
   "codemirror_mode": {
    "name": "ipython",
    "version": 3
   },
   "file_extension": ".py",
   "mimetype": "text/x-python",
   "name": "python",
   "nbconvert_exporter": "python",
   "pygments_lexer": "ipython3",
   "version": "3.11.9"
  }
 },
 "nbformat": 4,
 "nbformat_minor": 2
}
