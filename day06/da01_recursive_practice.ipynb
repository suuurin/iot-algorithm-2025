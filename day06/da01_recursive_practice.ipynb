{
 "cells": [
  {
   "cell_type": "markdown",
   "metadata": {},
   "source": [
    "## 재귀호출 연습"
   ]
  },
  {
   "cell_type": "code",
   "execution_count": 2,
   "metadata": {},
   "outputs": [],
   "source": [
    "import time"
   ]
  },
  {
   "cell_type": "markdown",
   "metadata": {},
   "source": [
    "#### 우주선 발사 카운트다운"
   ]
  },
  {
   "cell_type": "code",
   "execution_count": 4,
   "metadata": {},
   "outputs": [
    {
     "name": "stdout",
     "output_type": "stream",
     "text": [
      "5\n",
      "4\n",
      "3\n",
      "2\n",
      "1\n",
      "발사!\n"
     ]
    }
   ],
   "source": [
    "def countDown(n):\n",
    "    if n == 0:\n",
    "        print('발사!')\n",
    "    else:\n",
    "        print(n)\n",
    "        time.sleep(1)\n",
    "        countDown(n - 1) # 작은 숫자로 재귀호출\n",
    "countDown(5)"
   ]
  },
  {
   "cell_type": "markdown",
   "metadata": {},
   "source": [
    "#### 별모양 출력"
   ]
  },
  {
   "cell_type": "code",
   "execution_count": 7,
   "metadata": {},
   "outputs": [
    {
     "name": "stdout",
     "output_type": "stream",
     "text": [
      "★\n",
      "★★\n",
      "★★★\n",
      "★★★★\n",
      "★★★★★\n"
     ]
    }
   ],
   "source": [
    "def printStar(n):\n",
    "    if n > 0:\n",
    "        printStar(n - 1)\n",
    "        print('★'*n)\n",
    "\n",
    "printStar(5)"
   ]
  },
  {
   "cell_type": "markdown",
   "metadata": {},
   "source": [
    "#### 구구단"
   ]
  },
  {
   "cell_type": "code",
   "execution_count": 9,
   "metadata": {},
   "outputs": [
    {
     "name": "stdout",
     "output_type": "stream",
     "text": [
      "## 2단 ##\n",
      "2 x 1 =  2\t2 x 2 =  4\t2 x 3 =  6\t2 x 4 =  8\t2 x 5 = 10\t2 x 6 = 12\t2 x 7 = 14\t2 x 8 = 16\t2 x 9 = 18\t\n",
      "## 3단 ##\n",
      "3 x 1 =  3\t3 x 2 =  6\t3 x 3 =  9\t3 x 4 = 12\t3 x 5 = 15\t3 x 6 = 18\t3 x 7 = 21\t3 x 8 = 24\t3 x 9 = 27\t\n",
      "## 4단 ##\n",
      "4 x 1 =  4\t4 x 2 =  8\t4 x 3 = 12\t4 x 4 = 16\t4 x 5 = 20\t4 x 6 = 24\t4 x 7 = 28\t4 x 8 = 32\t4 x 9 = 36\t\n",
      "## 5단 ##\n",
      "5 x 1 =  5\t5 x 2 = 10\t5 x 3 = 15\t5 x 4 = 20\t5 x 5 = 25\t5 x 6 = 30\t5 x 7 = 35\t5 x 8 = 40\t5 x 9 = 45\t\n",
      "## 6단 ##\n",
      "6 x 1 =  6\t6 x 2 = 12\t6 x 3 = 18\t6 x 4 = 24\t6 x 5 = 30\t6 x 6 = 36\t6 x 7 = 42\t6 x 8 = 48\t6 x 9 = 54\t\n",
      "## 7단 ##\n",
      "7 x 1 =  7\t7 x 2 = 14\t7 x 3 = 21\t7 x 4 = 28\t7 x 5 = 35\t7 x 6 = 42\t7 x 7 = 49\t7 x 8 = 56\t7 x 9 = 63\t\n",
      "## 8단 ##\n",
      "8 x 1 =  8\t8 x 2 = 16\t8 x 3 = 24\t8 x 4 = 32\t8 x 5 = 40\t8 x 6 = 48\t8 x 7 = 56\t8 x 8 = 64\t8 x 9 = 72\t\n",
      "## 9단 ##\n",
      "9 x 1 =  9\t9 x 2 = 18\t9 x 3 = 27\t9 x 4 = 36\t9 x 5 = 45\t9 x 6 = 54\t9 x 7 = 63\t9 x 8 = 72\t9 x 9 = 81\t\n"
     ]
    }
   ],
   "source": [
    "def gugu(dan, num):\n",
    "    print(f'{dan} x {num} = {dan*num:>2d}', end='\\t')\n",
    "    if num < 9:\n",
    "        gugu(dan, num + 1)\n",
    "\n",
    "for dan in range(2, 10):\n",
    "    print(f'## {dan}단 ##')\n",
    "    gugu(dan, 1)\n",
    "    print()"
   ]
  },
  {
   "cell_type": "markdown",
   "metadata": {},
   "source": [
    "#### N제곱 계산"
   ]
  },
  {
   "cell_type": "code",
   "execution_count": 11,
   "metadata": {},
   "outputs": [
    {
     "data": {
      "text/plain": [
       "1024"
      ]
     },
     "execution_count": 11,
     "metadata": {},
     "output_type": "execute_result"
    }
   ],
   "source": [
    "2 ** 10"
   ]
  },
  {
   "cell_type": "code",
   "execution_count": 12,
   "metadata": {},
   "outputs": [
    {
     "data": {
      "text/plain": [
       "1024.0"
      ]
     },
     "execution_count": 12,
     "metadata": {},
     "output_type": "execute_result"
    }
   ],
   "source": [
    "from math import pow\n",
    "\n",
    "pow(2, 10)"
   ]
  },
  {
   "cell_type": "code",
   "execution_count": 13,
   "metadata": {},
   "outputs": [],
   "source": [
    "## 생략, 해보세요"
   ]
  },
  {
   "cell_type": "markdown",
   "metadata": {},
   "source": [
    "#### 배열의 합 계산"
   ]
  },
  {
   "cell_type": "code",
   "execution_count": 20,
   "metadata": {},
   "outputs": [
    {
     "name": "stdout",
     "output_type": "stream",
     "text": [
      "배열 [84, 23, 15, 47, 98, 5, 18, 13, 30, 73, 69, 82, 61, 7, 97, 28, 40, 5, 0, 89]의 배열 합계 -> 884\n"
     ]
    }
   ],
   "source": [
    "import random\n",
    "\n",
    "ary = [random.randint(0,100) for _ in range(random.randint(10,20))]\n",
    "# ary = [i for i in range(1,11)]\n",
    "\n",
    "def arySum(arr, n):\n",
    "    if n <= 0:\n",
    "        return arr[0]\n",
    "    \n",
    "    return arySum(arr, n-1) + arr[n]\n",
    "\n",
    "print(f'배열 {ary}의 배열 합계 -> {arySum(ary, len(ary)-1)}')"
   ]
  },
  {
   "cell_type": "markdown",
   "metadata": {},
   "source": [
    "피보나치 수"
   ]
  },
  {
   "cell_type": "code",
   "execution_count": 21,
   "metadata": {},
   "outputs": [
    {
     "name": "stdout",
     "output_type": "stream",
     "text": [
      "피보나치 수 -> 0 1 1 2 3 5 8 13 21 34 55 89 144 233 377 610 987 1597 2584 4181 "
     ]
    }
   ],
   "source": [
    "def fibonaci(n):\n",
    "    if n == 0:\n",
    "        return 0\n",
    "    elif n == 1:\n",
    "        return 1\n",
    "    else:\n",
    "        return fibonaci(n-1) + fibonaci(n-2)\n",
    "    \n",
    "print(f'피보나치 수 -> {fibonaci(0)} {fibonaci(1)}', end= ' ')\n",
    "for i in range(2, 20):\n",
    "    print(fibonaci(i), end=' ')"
   ]
  },
  {
   "cell_type": "markdown",
   "metadata": {},
   "source": [
    "회문판단"
   ]
  },
  {
   "cell_type": "code",
   "execution_count": 22,
   "metadata": {},
   "outputs": [
    {
     "name": "stdout",
     "output_type": "stream",
     "text": [
      "reaver-> No\n",
      "kayak-> OK\n",
      "Borrow or rob-> OK\n",
      "주유소의 소유주-> OK\n",
      "야 너 이번 주 주번이 너야-> OK\n",
      "살금살금-> No\n"
     ]
    }
   ],
   "source": [
    "strAry = ['reaver', 'kayak', 'Borrow or rob', '주유소의 소유주', '야 너 이번 주 주번이 너야', '살금살금']\n",
    "\n",
    "def checkPalindrome(pStr):\n",
    "    if len(pStr) <= 1:\n",
    "        return True\n",
    "    else:\n",
    "        if pStr[0] != pStr[-1]:\n",
    "            return False\n",
    "        else: # 리스트 맨 처음 단어와 맨마지막 단어가 같으면, 걔네들은 버린다\n",
    "            return checkPalindrome(pStr[1:len(pStr)-1])\n",
    "        \n",
    "# 시작\n",
    "for testStr in strAry:\n",
    "    print(testStr, end='-> ')\n",
    "    testStr = testStr.lower().replace(' ', '') # 대문자는 없애주고, 중간 공백도 없앰\n",
    "\n",
    "    if checkPalindrome(testStr):\n",
    "        print('OK')\n",
    "    else:\n",
    "        print('No')"
   ]
  },
  {
   "cell_type": "markdown",
   "metadata": {},
   "source": [
    "프랙탈"
   ]
  },
  {
   "cell_type": "code",
   "execution_count": 25,
   "metadata": {},
   "outputs": [],
   "source": [
    "from tkinter import *\n",
    "\n",
    "root = Tk()\n",
    "canvas = Canvas(root, width=1000, height=1000, bg='white')\n",
    "canvas.pack()\n",
    "\n",
    "root.mainloop()\n",
    "# 종료시 예외메시지가 계속 출력되는 문제. 파이썬으로 이동!"
   ]
  },
  {
   "cell_type": "markdown",
   "metadata": {},
   "source": [
    "#### 재귀호출 쓰는 이유\n",
    "- 반복문만 가지고 구현이 정말 힘들 때 -> 재귀호출 쓰면 한방에 해결\n",
    "- 수학적인 개념으로 접근하면 점화식(재귀식)을 그대로 소스코드로 구현가능"
   ]
  }
 ],
 "metadata": {
  "kernelspec": {
   "display_name": "Python 3",
   "language": "python",
   "name": "python3"
  },
  "language_info": {
   "codemirror_mode": {
    "name": "ipython",
    "version": 3
   },
   "file_extension": ".py",
   "mimetype": "text/x-python",
   "name": "python",
   "nbconvert_exporter": "python",
   "pygments_lexer": "ipython3",
   "version": "3.11.9"
  }
 },
 "nbformat": 4,
 "nbformat_minor": 2
}
