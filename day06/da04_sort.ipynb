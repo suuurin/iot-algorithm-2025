{
 "cells": [
  {
   "cell_type": "markdown",
   "metadata": {},
   "source": [
    "### 정렬 Sort\n",
    "<img src=\"https://upload.wikimedia.org/wikipedia/commons/thumb/8/8e/Merge_sort_animation.gif/220px-Merge_sort_animation.gif\"\n",
    "width=\"400\">\n",
    "- 여러 데이터를 작은 값부터 큰 순으로 또는 큰 값부터 작은 순으로 순서에 맞게 정리하는 것\n",
    "    - 오름차순(Ascending sort)\n",
    "    - 내림차순(Descending sort)\n",
    "\n",
    "<!-- 표만들 때 :-- (왼쪽정렬) --:(오른쪽정렬) :--:(중앙정렬) -->\n",
    "|종류|평균|최선|최악|\n",
    "|:--|:--:|--:|:--:|\n",
    "|선택정렬|$0(n^2)$|$0(n^2)$|$0(n^2)$|\n",
    "|삽입정렬|$0(n^2)$|$0(n^2)$|$0(n^2)$|\n",
    "|버블|$0(n^2)$|$0(n^2)$|$0(n^2)$|\n",
    "|합병|$0(n log n)$|$0(n log n)$|$0(n^2)$|\n",
    "|퀵|$0(n log n)$|$0(n log n)$|$0(n^2)$|\n",
    "|힙|$0(n log n)$|$0(n log n)$|$0(n log n)$|\n",
    "|쉘|$0(n^{1.25})$|$0(n^{1.25})$|$0(n^{1.25})$|\n",
    "|기수|$0(dn)$|$0(dn)$|$0(dn)$"
   ]
  },
  {
   "cell_type": "markdown",
   "metadata": {},
   "source": [
    "#### 선택정렬\n",
    "- 여러 데이터중 가장 작은 값을 뽑는 과정을 반복하여 정렬하는 방식"
   ]
  },
  {
   "cell_type": "code",
   "execution_count": 5,
   "metadata": {},
   "outputs": [],
   "source": [
    "def findMinIdx(ary):\n",
    "    minIdx = 0 # 맨 처음값을 최소라고 지정\n",
    "    for i in range(1, len(ary)):\n",
    "        if ary[minIdx] > ary[i]:\n",
    "            minIdx = i\n",
    "    return minIdx"
   ]
  },
  {
   "cell_type": "code",
   "execution_count": 6,
   "metadata": {},
   "outputs": [
    {
     "name": "stdout",
     "output_type": "stream",
     "text": [
      "최소값 인덱스 : 2\n",
      "최소값 : 22\n"
     ]
    }
   ],
   "source": [
    "testAry = [55,88,22,33,77]\n",
    "minPos = findMinIdx(testAry)\n",
    "print(f'최소값 인덱스 : {minPos}')\n",
    "print(f'최소값 : {testAry[minPos]}')\n"
   ]
  },
  {
   "cell_type": "code",
   "execution_count": 9,
   "metadata": {},
   "outputs": [
    {
     "name": "stdout",
     "output_type": "stream",
     "text": [
      "정렬 전 -> [188, 162, 168, 120, 50, 150, 177, 105]\n",
      "정렬 후 -> [50, 105, 120, 150, 162, 168, 177, 188]\n"
     ]
    }
   ],
   "source": [
    "## 변수 선언\n",
    "#[('아빠', 188), ('할머니', 162), ..., ('동생',105)]\n",
    "before = [188, 162, 168, 120, 50, 150, 177, 105]\n",
    "after = []\n",
    "\n",
    "## 메인코드\n",
    "print(f'정렬 전 -> {before}')\n",
    "\n",
    "for _ in range(len(before)) : # 8번\n",
    "    minPos = findMinIdx(before)\n",
    "    after.append(before[minPos])\n",
    "    del(before[minPos])\n",
    "\n",
    "print(f'정렬 후 -> {after}')"
   ]
  },
  {
   "cell_type": "markdown",
   "metadata": {},
   "source": [
    "#### 데이터 교환에서 가장 중요한 swap\n",
    "- 변수가 두개 있을 때 하나의 값을 다른 곳으로 할당하려면 임시변수가 필요\n",
    "\n",
    "    ```python\n",
    "        def swqp(x, y):\n",
    "        x = y\n",
    "        y = temp\n",
    "    ````"
   ]
  },
  {
   "cell_type": "markdown",
   "metadata": {},
   "source": [
    "#### 변수 하나로 선택정렬"
   ]
  },
  {
   "cell_type": "code",
   "execution_count": 22,
   "metadata": {},
   "outputs": [
    {
     "name": "stdout",
     "output_type": "stream",
     "text": [
      "정렬 전 -> [188, 162, 168, 120, 50, 150, 177, 105]\n",
      "정렬 중 -> [50, 162, 168, 120, 188, 150, 177, 105]\n",
      "정렬 중 -> [50, 105, 168, 120, 188, 150, 177, 162]\n",
      "정렬 중 -> [50, 105, 120, 168, 188, 150, 177, 162]\n",
      "정렬 중 -> [50, 105, 120, 150, 188, 168, 177, 162]\n",
      "정렬 중 -> [50, 105, 120, 150, 162, 168, 177, 188]\n",
      "정렬 중 -> [50, 105, 120, 150, 162, 168, 177, 188]\n",
      "정렬 중 -> [50, 105, 120, 150, 162, 168, 177, 188]\n",
      "정렬 후 => [50, 105, 120, 150, 162, 168, 177, 188]\n"
     ]
    }
   ],
   "source": [
    "def sortSelection(ary):\n",
    "    n = len(ary)\n",
    "    for i in range(0, n-1):\n",
    "        minIdx = i\n",
    "        for j in range(i+1, n):\n",
    "            if ary[minIdx] > ary[j]:\n",
    "                minIdx = j\n",
    "\n",
    "        tmp = ary[i]\n",
    "        ary[i] = ary[minIdx]\n",
    "        ary[minIdx] = tmp\n",
    "\n",
    "        print(f'정렬 중 -> {ary}')\n",
    "\n",
    "    return ary\n",
    "\n",
    "dataAry = [188, 162, 168, 120, 50, 150, 177, 105]\n",
    "print(f'정렬 전 -> {dataAry}')\n",
    "dataAry = sortSelection(dataAry)\n",
    "print(f'정렬 후 => {dataAry}')"
   ]
  },
  {
   "cell_type": "code",
   "execution_count": 14,
   "metadata": {},
   "outputs": [],
   "source": [
    "def findInsertIdx(ary, data):\n",
    "    findIdx = -1 # 배열의 인덱스 앞(인덱스 0보다 앞을 의미)\n",
    "    for i in range(0, len(ary)):\n",
    "        if ary[i] > data:\n",
    "            findIdx = i\n",
    "            break\n",
    "\n",
    "    if findIdx == -1:\n",
    "        return len(ary)\n",
    "    else:\n",
    "        return findIdx"
   ]
  },
  {
   "cell_type": "code",
   "execution_count": 15,
   "metadata": {},
   "outputs": [
    {
     "name": "stdout",
     "output_type": "stream",
     "text": [
      "삽입위치 인덱스 -> 0\n"
     ]
    }
   ],
   "source": [
    "testAry = []\n",
    "print(f'삽입위치 인덱스 -> {findInsertIdx(testAry, 55)}')"
   ]
  },
  {
   "cell_type": "code",
   "execution_count": 16,
   "metadata": {},
   "outputs": [
    {
     "name": "stdout",
     "output_type": "stream",
     "text": [
      "삽입위치 인덱스 -> 1\n"
     ]
    }
   ],
   "source": [
    "testAry = [33,77,88]\n",
    "print(f'삽입위치 인덱스 -> {findInsertIdx(testAry, 55)}')"
   ]
  },
  {
   "cell_type": "code",
   "execution_count": 17,
   "metadata": {},
   "outputs": [
    {
     "name": "stdout",
     "output_type": "stream",
     "text": [
      "삽입위치 인덱스 -> 2\n"
     ]
    }
   ],
   "source": [
    "testAry = [33,55,77,88]\n",
    "print(f'삽입위치 인덱스 -> {findInsertIdx(testAry, 55)}')"
   ]
  },
  {
   "cell_type": "code",
   "execution_count": 18,
   "metadata": {},
   "outputs": [
    {
     "name": "stdout",
     "output_type": "stream",
     "text": [
      "삽입위치 인덱스 -> 4\n"
     ]
    }
   ],
   "source": [
    "testAry = [33,55,77,88]\n",
    "print(f'삽입위치 인덱스 -> {findInsertIdx(testAry, 100)}')"
   ]
  },
  {
   "cell_type": "markdown",
   "metadata": {},
   "source": [
    "- 삽입정렬 구현"
   ]
  },
  {
   "cell_type": "code",
   "execution_count": 19,
   "metadata": {},
   "outputs": [
    {
     "name": "stdout",
     "output_type": "stream",
     "text": [
      "정렬 전 -> [188, 162, 168, 120, 50, 150, 177, 105]\n",
      "정렬 중 => [188]\n",
      "정렬 중 => [162, 188]\n",
      "정렬 중 => [162, 168, 188]\n",
      "정렬 중 => [120, 162, 168, 188]\n",
      "정렬 중 => [50, 120, 162, 168, 188]\n",
      "정렬 중 => [50, 120, 150, 162, 168, 188]\n",
      "정렬 중 => [50, 120, 150, 162, 168, 177, 188]\n",
      "정렬 중 => [50, 105, 120, 150, 162, 168, 177, 188]\n",
      "정렬 후 -> [50, 105, 120, 150, 162, 168, 177, 188]\n"
     ]
    }
   ],
   "source": [
    "# 변수\n",
    "before = [188, 162, 168, 120, 50, 150, 177, 105]\n",
    "after = []\n",
    "\n",
    "# 메인코드\n",
    "print(f'정렬 전 -> {before}')\n",
    "for i in range(len(before)):\n",
    "    data = before[i]\n",
    "    insPos = findInsertIdx(after, data)\n",
    "    after.insert(insPos, data)\n",
    "    print(f'정렬 중 => {after}')\n",
    "\n",
    "print(f'정렬 후 -> {after}')"
   ]
  },
  {
   "cell_type": "markdown",
   "metadata": {},
   "source": [
    "- 변수 하나로 삽입정렬"
   ]
  },
  {
   "cell_type": "code",
   "execution_count": 24,
   "metadata": {},
   "outputs": [
    {
     "name": "stdout",
     "output_type": "stream",
     "text": [
      "정렬 전 -> [188, 162, 168, 120, 50, 150, 177, 105]\n",
      "정렬 중 => [162, 162, 168, 120, 50, 150, 177, 105]\n",
      "정렬 중 => [162, 162, 168, 120, 50, 150, 177, 105]\n",
      "정렬 중 => [120, 120, 120, 120, 50, 150, 177, 105]\n",
      "정렬 중 => [50, 50, 50, 50, 50, 150, 177, 105]\n",
      "정렬 중 => [50, 50, 50, 50, 50, 150, 177, 105]\n",
      "정렬 중 => [50, 50, 50, 50, 50, 150, 177, 105]\n",
      "정렬 중 => [50, 50, 50, 50, 50, 105, 105, 105]\n",
      "정렬 후 -> [50, 50, 50, 50, 50, 105, 105, 105]\n"
     ]
    }
   ],
   "source": [
    "def sortInsertion(ary):\n",
    "    n = len(ary)\n",
    "    for end in range(1,n): # end -> 1 ... n-1\n",
    "        for cur in range(end, 0, -1): # cur -> 거꾸로\n",
    "            if ary[cur - 1] > ary[cur]:\n",
    "                # tmp = ary[cur]\n",
    "                # ary[cur -1] = ary[cur - 1]\n",
    "                # ary[cur -1] = tmp\n",
    "                # tmp 변수를 안 만들고 바로 변경할 수 있는 로직 (파이썬에 존재, C는 없음)\n",
    "                ary[cur -1], ary[cur] = ary[cur], ary[cur -1]\n",
    "        print(f'정렬 중 => {ary}')\n",
    "    return ary\n",
    "\n",
    "dataAry = [188, 162, 168, 120, 50, 150, 177, 105]\n",
    "\n",
    "# 메인코드\n",
    "print(f'정렬 전 -> {dataAry}')\n",
    "dataAry = sortInsertion(dataAry)\n",
    "print(f'정렬 후 -> {dataAry}')"
   ]
  },
  {
   "cell_type": "markdown",
   "metadata": {},
   "source": [
    "#### 버블 정렬\n",
    "- 앞 뒤 데이터를 비교해서 큰 값을 뒤로 보내면서 정렬하는 방식\n",
    "- 거품처럼 생겼다고 버블 정렬\n",
    "- 제일 큰 값 제일 뒤로"
   ]
  },
  {
   "cell_type": "code",
   "execution_count": 28,
   "metadata": {},
   "outputs": [],
   "source": [
    "import random"
   ]
  },
  {
   "cell_type": "code",
   "execution_count": 31,
   "metadata": {},
   "outputs": [
    {
     "name": "stdout",
     "output_type": "stream",
     "text": [
      "정렬 전 -> [188, 162, 168, 120, 50, 150, 177, 105]\n",
      "정렬 중 -> [162, 168, 120, 50, 150, 177, 105, 188]\n",
      "정렬 중 -> [162, 120, 50, 150, 168, 105, 177, 188]\n",
      "정렬 중 -> [120, 50, 150, 162, 105, 168, 177, 188]\n",
      "정렬 중 -> [50, 120, 150, 105, 162, 168, 177, 188]\n",
      "정렬 중 -> [50, 120, 105, 150, 162, 168, 177, 188]\n",
      "정렬 중 -> [50, 105, 120, 150, 162, 168, 177, 188]\n",
      "정렬 중 -> [50, 105, 120, 150, 162, 168, 177, 188]\n",
      "정렬 후 -> [50, 105, 120, 150, 162, 168, 177, 188]\n"
     ]
    }
   ],
   "source": [
    "# 함수 정의\n",
    "def sortBubble(ary):\n",
    "    n = len(ary)\n",
    "    for end in range(n-1, 0, -1): # 거꾸로\n",
    "        for cur in range(0, end):\n",
    "            if ary[cur] > ary[cur + 1]:\n",
    "                ary[cur], ary[cur + 1] = ary[cur+1], ary[cur] # swqp 기능을 포함\n",
    "        \n",
    "        print(f'정렬 중 -> {ary}')\n",
    "\n",
    "    return ary\n",
    "\n",
    "dataAry = [188, 162, 168, 120, 50, 150, 177, 105]\n",
    "# dataAry = [random.randint(50,190) for _ in range(random.randint(8, 20))]\n",
    "\n",
    "print(f'정렬 전 -> {dataAry}')\n",
    "dataAry = sortBubble(dataAry)\n",
    "print(f'정렬 후 -> {dataAry}')"
   ]
  },
  {
   "cell_type": "markdown",
   "metadata": {},
   "source": [
    "##### 버블 정렬 중\n",
    "- 데이터가 거의 정렬이 되고, 한 두개가 데이터가 튀었을 때 개선방법\n",
    "- 한 사이클을 마쳤을 때 모두 정렬이 되면 더이상 반복문 처리않고 탈출"
   ]
  },
  {
   "cell_type": "code",
   "execution_count": 34,
   "metadata": {},
   "outputs": [
    {
     "name": "stdout",
     "output_type": "stream",
     "text": [
      "정렬 전 -> [50, 105, 120, 188, 150, 162, 168, 177]\n",
      "정렬 후 -> [50, 105, 120, 150, 162, 168, 177, 188]\n"
     ]
    }
   ],
   "source": [
    "## 버블정렬 개선함수\n",
    "def sortBubbleA(ary):\n",
    "    n = len(ary)\n",
    "\n",
    "    for end in range(n-1, 0, -1):\n",
    "        changeYn = False\n",
    "        for cur in range(0, end):\n",
    "            if ary[cur] > ary[cur +1]:\n",
    "                ary[cur], ary[cur+1] = ary[cur+1], ary[cur]\n",
    "                changeYn = True # 값이 바꼈다\n",
    "\n",
    "        if not changeYn:\n",
    "            break\n",
    "\n",
    "    return ary\n",
    "\n",
    "dataAry = [50,105,120,188,150,162,168,177]\n",
    "\n",
    "print(f'정렬 전 -> {dataAry}')\n",
    "dataAry = sortBubbleA(dataAry)\n",
    "print(f'정렬 후 -> {dataAry}')"
   ]
  },
  {
   "cell_type": "markdown",
   "metadata": {},
   "source": [
    "- 다른 정렬은 데이터가 거의 정렬이 다 되어있어도 횟수만큼 동작 $O(n^2)$\n",
    "- 버블 정렬은 데이터가 거의 정렬되어있으면 반복횟수를 줄일 수 $O(n)$"
   ]
  },
  {
   "cell_type": "markdown",
   "metadata": {},
   "source": [
    "#### 퀵 정렬"
   ]
  },
  {
   "cell_type": "code",
   "execution_count": null,
   "metadata": {},
   "outputs": [],
   "source": []
  }
 ],
 "metadata": {
  "kernelspec": {
   "display_name": "Python 3",
   "language": "python",
   "name": "python3"
  },
  "language_info": {
   "codemirror_mode": {
    "name": "ipython",
    "version": 3
   },
   "file_extension": ".py",
   "mimetype": "text/x-python",
   "name": "python",
   "nbconvert_exporter": "python",
   "pygments_lexer": "ipython3",
   "version": "3.11.9"
  }
 },
 "nbformat": 4,
 "nbformat_minor": 2
}
